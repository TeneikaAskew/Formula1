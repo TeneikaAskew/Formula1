{
  "cells": [
    {
      "cell_type": "markdown",
      "metadata": {
        "id": "view-in-github",
        "colab_type": "text"
      },
      "source": [
        "<a href=\"https://colab.research.google.com/github/TeneikaAskew/Formula1/blob/main/Random_Forest_and_Gradient_Boosting.ipynb\" target=\"_parent\"><img src=\"https://colab.research.google.com/assets/colab-badge.svg\" alt=\"Open In Colab\"/></a>"
      ]
    },
    {
      "cell_type": "markdown",
      "source": [
        "# Feature Engineering\n",
        "\n"
      ],
      "metadata": {
        "id": "rTopwlutV0xW"
      }
    },
    {
      "cell_type": "code",
      "execution_count": 62,
      "metadata": {
        "colab": {
          "base_uri": "https://localhost:8080/"
        },
        "id": "kI0JB4teiPKO",
        "outputId": "0e54e74d-4511-477f-dd3c-04917289c55c"
      },
      "outputs": [
        {
          "output_type": "stream",
          "name": "stdout",
          "text": [
            "Drive already mounted at /content/drive; to attempt to forcibly remount, call drive.mount(\"/content/drive\", force_remount=True).\n",
            "/content/drive/Shared drives/Projects/Clicked/F1\n"
          ]
        }
      ],
      "source": [
        "from google.colab import drive\n",
        "drive.mount('/content/drive')\n",
        "%cd '/content/drive/Shared drives/Projects/Clicked/F1'\n",
        "\n",
        "import pandas as pd\n",
        "from sklearn.model_selection import train_test_split, cross_val_score, GridSearchCV\n",
        "from sklearn.ensemble import RandomForestClassifier, GradientBoostingClassifier, VotingClassifier\n",
        "from sklearn.metrics import accuracy_score, precision_score, recall_score, f1_score, classification_report\n",
        "from imblearn.over_sampling import SMOTE\n",
        "\n",
        "# Suppress SettingWithCopyWarning\n",
        "pd.options.mode.chained_assignment = None  # default='warn'\n",
        "\n",
        "# Load your datasets (ensure the file paths are correct)\n",
        "drivers = pd.read_csv('drivers.csv')\n",
        "qualifying = pd.read_csv('qualifying.csv')\n",
        "races = pd.read_csv('races.csv')\n",
        "lap_times = pd.read_csv('lap_times.csv')\n",
        "pit_stop_times = pd.read_csv('pit_stops.csv')\n",
        "driver_standings = pd.read_csv('driver_standings.csv')\n",
        "results = pd.read_csv('results.csv')\n",
        "status = pd.read_csv('status.csv')\n",
        "constructor_results = pd.read_csv('constructor_results.csv')\n",
        "constructor_standings = pd.read_csv('constructor_standings.csv')\n",
        "\n",
        "# Identify drivers who finished the races\n",
        "finished_status_ids = status[status['status'].str.lower().isin(['finished', '1', 'active'])]['statusId'].unique()\n",
        "finished_results = results[results['statusId'].isin(finished_status_ids)]\n",
        "\n",
        "# Identify drivers who finished in the top 10 positions\n",
        "finished_results['top_10'] = finished_results['positionOrder'] <= 10\n",
        "\n",
        "# Merge races and results to get race year\n",
        "results = results.merge(races[['raceId', 'year']], on='raceId', how='left')\n",
        "\n",
        "# Calculate average position per season for each driver\n",
        "seasonal_performance = results.groupby(['driverId', 'year'])['positionOrder'].mean().reset_index()\n",
        "seasonal_performance.columns = ['driverId', 'year', 'avg_position_per_season']\n",
        "\n",
        "# Calculate average qualifying position for each driver\n",
        "qualifying['q1'] = qualifying['q1'].fillna('999:59.999').apply(lambda x: int(x.split(':')[0]) * 60 + float(x.split(':')[1]) if x != '\\\\N' else 999*60 + 59.999)\n",
        "qualifying['q2'] = qualifying['q2'].fillna('999:59.999').apply(lambda x: int(x.split(':')[0]) * 60 + float(x.split(':')[1]) if x != '\\\\N' else 999*60 + 59.999)\n",
        "qualifying['q3'] = qualifying['q3'].fillna('999:59.999').apply(lambda x: int(x.split(':')[0]) * 60 + float(x.split(':')[1]) if x != '\\\\N' else 999*60 + 59.999)\n",
        "qualifying['qualifying_time'] = (qualifying['q1'] + qualifying['q2'] + qualifying['q3']) / qualifying[['q1', 'q2', 'q3']].notna().sum(axis=1)\n",
        "avg_qualifying_position = qualifying.groupby('driverId')['position'].mean().reset_index()\n",
        "avg_qualifying_position.columns = ['driverId', 'avg_qualifying_position']\n",
        "\n",
        "# Calculate average team points\n",
        "avg_team_points = constructor_results.groupby('constructorId')['points'].mean().reset_index()\n",
        "avg_team_points.columns = ['constructorId', 'avg_team_points']\n",
        "\n",
        "# Merge all performance metrics into results dataframe\n",
        "results = results.merge(seasonal_performance, on=['driverId', 'year'], how='left')\n",
        "results = results.merge(avg_qualifying_position, on='driverId', how='left')\n",
        "results = results.merge(avg_team_points, on='constructorId', how='left')\n",
        "\n",
        "# Create interaction features\n",
        "results['qualifying_position_x_race_position'] = results['grid'] * results['positionOrder']\n",
        "results['qualifying_position_x_team_points'] = results['grid'] * results['avg_team_points']\n",
        "\n",
        "# Ensure the target variable exists\n",
        "results['top_10'] = results['positionOrder'] <= 10\n",
        "results['top_3'] = results['positionOrder'] <= 3\n",
        "\n",
        "# Additional feature engineering\n",
        "results['points_per_race'] = results['points'] / results['raceId'].map(results.groupby('raceId')['raceId'].count())\n",
        "results['constructor_points_per_race'] = results['constructorId'].map(constructor_results.groupby('constructorId')['points'].mean())\n",
        "results['driver_standing'] = results['driverId'].map(driver_standings.groupby('driverId')['points'].mean())\n",
        "results['avg_pit_stop_time'] = pit_stop_times.groupby('raceId')['milliseconds'].transform('mean') / 1000  # converting ms to seconds\n",
        "results['avg_lap_time'] = lap_times.groupby('raceId')['milliseconds'].transform('mean') / 1000  # converting ms to seconds\n",
        "\n",
        "# Calculate the number of top 10 and top 3 finishes for each driver\n",
        "top_10_counts = results.groupby('driverId')['top_10'].sum().reset_index()\n",
        "top_3_counts = results.groupby('driverId')['top_3'].sum().reset_index()\n",
        "\n",
        "top_10_counts.columns = ['driverId', 'top_10_count']\n",
        "top_3_counts.columns = ['driverId', 'top_3_count']\n",
        "\n",
        "results = results.merge(top_10_counts, on='driverId', how='left')\n",
        "results = results.merge(top_3_counts, on='driverId', how='left')\n"
      ]
    },
    {
      "cell_type": "code",
      "execution_count": 63,
      "metadata": {
        "id": "EXWO737iiTk5"
      },
      "outputs": [],
      "source": [
        "# Prepare the data for training\n",
        "features = results[['grid', 'avg_position_per_season', 'avg_team_points', 'avg_qualifying_position',\n",
        "                    'qualifying_position_x_race_position', 'qualifying_position_x_team_points',\n",
        "                    'points_per_race', 'constructor_points_per_race', 'driver_standing',\n",
        "                    'top_10_count', 'top_3_count', 'avg_pit_stop_time', 'avg_lap_time']]\n",
        "target_top_10 = results['top_10']\n",
        "target_top_3 = results['top_3']\n",
        "\n",
        "# Drop any rows with missing values\n",
        "features = features.dropna()\n",
        "target_top_10 = target_top_10[features.index]\n",
        "target_top_3 = target_top_3[features.index]\n",
        "\n"
      ]
    },
    {
      "cell_type": "markdown",
      "source": [
        "## Train Test Split"
      ],
      "metadata": {
        "id": "NbYqIrIEV7hu"
      }
    },
    {
      "cell_type": "code",
      "source": [
        "# Split the data into training and testing sets for both targets\n",
        "X_train, X_test, y_train_top_10, y_test_top_10 = train_test_split(features, target_top_10, test_size=0.2, random_state=42)\n",
        "X_train_top_3, X_test_top_3, y_train_top_3, y_test_top_3 = train_test_split(features, target_top_3, test_size=0.2, random_state=42)\n",
        "\n",
        "# Apply SMOTE to handle class imbalance for top 3 predictions\n",
        "smote = SMOTE(random_state=42)\n",
        "X_train_top_3_smote, y_train_top_3_smote = smote.fit_resample(X_train_top_3, y_train_top_3)"
      ],
      "metadata": {
        "id": "Lw_dXksmV7X-"
      },
      "execution_count": null,
      "outputs": []
    },
    {
      "cell_type": "markdown",
      "source": [
        "## Random Forest, Gradient Boosting and Ensemble Model\n",
        "\n",
        "\n",
        "*   Hyperparameter Tuning\n",
        "*   Grid Search\n",
        "\n"
      ],
      "metadata": {
        "id": "QMi6IVhcWA1j"
      }
    },
    {
      "cell_type": "code",
      "execution_count": 64,
      "metadata": {
        "colab": {
          "base_uri": "https://localhost:8080/"
        },
        "id": "wjqpRbNskaDU",
        "outputId": "72cc6211-6730-4656-e1ea-456db18abf02"
      },
      "outputs": [
        {
          "output_type": "stream",
          "name": "stdout",
          "text": [
            "Number of CPUs: 2\n"
          ]
        }
      ],
      "source": [
        "# Initialize the models with hyperparameter tuning\n",
        "param_grid = {\n",
        "    'rf__n_estimators': [50, 100, 200], #can reduce parameters if taking too long\n",
        "    'gb__n_estimators': [50, 100, 200],\n",
        "    'gb__learning_rate': [0.01, 0.1, 0.2]\n",
        "}\n",
        "\n",
        "rf_model = RandomForestClassifier(random_state=42)\n",
        "gb_model = GradientBoostingClassifier(random_state=42)\n",
        "# gb_model = GradientBoostingClassifier(random_state=42, n_iter_no_change=5) Early Stopping for Gradient Boosting Use early stopping to reduce the number of iterations if no improvement is seen.\n",
        "\n",
        "# Ensemble model\n",
        "ensemble_model_top_10 = VotingClassifier(estimators=[('rf', rf_model), ('gb', gb_model)], voting='soft')\n",
        "ensemble_model_top_3 = VotingClassifier(estimators=[('rf', rf_model), ('gb', gb_model)], voting='soft')\n",
        "\n",
        "import multiprocessing\n",
        "n_cpus = multiprocessing.cpu_count()\n",
        "print(f\"Number of CPUs: {n_cpus}\")\n",
        "\n",
        "# Hyperparameter tuning using GridSearchCV\n",
        "grid_search_top_10 = GridSearchCV(estimator=ensemble_model_top_10, param_grid=param_grid, cv=5, scoring='accuracy', n_jobs=n_cpus)\n",
        "grid_search_top_3 = GridSearchCV(estimator=ensemble_model_top_3, param_grid=param_grid, cv=5, scoring='accuracy', n_jobs=n_cpus)\n",
        "grid_search_top_3_smote = GridSearchCV(estimator=ensemble_model_top_3, param_grid=param_grid, cv=5, scoring='accuracy', n_jobs=n_cpus)"
      ]
    },
    {
      "cell_type": "markdown",
      "source": [
        "### Model Fit"
      ],
      "metadata": {
        "id": "PZdS8YAiWWWQ"
      }
    },
    {
      "cell_type": "code",
      "execution_count": 65,
      "metadata": {
        "colab": {
          "base_uri": "https://localhost:8080/",
          "height": 168
        },
        "id": "Tenf4lvCnRJR",
        "outputId": "0ea1513a-70dd-481f-d888-faaf3d1d27a0"
      },
      "outputs": [
        {
          "output_type": "execute_result",
          "data": {
            "text/plain": [
              "GridSearchCV(cv=5,\n",
              "             estimator=VotingClassifier(estimators=[('rf',\n",
              "                                                     RandomForestClassifier(random_state=42)),\n",
              "                                                    ('gb',\n",
              "                                                     GradientBoostingClassifier(random_state=42))],\n",
              "                                        voting='soft'),\n",
              "             n_jobs=2,\n",
              "             param_grid={'gb__learning_rate': [0.01, 0.1, 0.2],\n",
              "                         'gb__n_estimators': [50, 100, 200],\n",
              "                         'rf__n_estimators': [50, 100, 200]},\n",
              "             scoring='accuracy')"
            ],
            "text/html": [
              "<style>#sk-container-id-13 {color: black;background-color: white;}#sk-container-id-13 pre{padding: 0;}#sk-container-id-13 div.sk-toggleable {background-color: white;}#sk-container-id-13 label.sk-toggleable__label {cursor: pointer;display: block;width: 100%;margin-bottom: 0;padding: 0.3em;box-sizing: border-box;text-align: center;}#sk-container-id-13 label.sk-toggleable__label-arrow:before {content: \"▸\";float: left;margin-right: 0.25em;color: #696969;}#sk-container-id-13 label.sk-toggleable__label-arrow:hover:before {color: black;}#sk-container-id-13 div.sk-estimator:hover label.sk-toggleable__label-arrow:before {color: black;}#sk-container-id-13 div.sk-toggleable__content {max-height: 0;max-width: 0;overflow: hidden;text-align: left;background-color: #f0f8ff;}#sk-container-id-13 div.sk-toggleable__content pre {margin: 0.2em;color: black;border-radius: 0.25em;background-color: #f0f8ff;}#sk-container-id-13 input.sk-toggleable__control:checked~div.sk-toggleable__content {max-height: 200px;max-width: 100%;overflow: auto;}#sk-container-id-13 input.sk-toggleable__control:checked~label.sk-toggleable__label-arrow:before {content: \"▾\";}#sk-container-id-13 div.sk-estimator input.sk-toggleable__control:checked~label.sk-toggleable__label {background-color: #d4ebff;}#sk-container-id-13 div.sk-label input.sk-toggleable__control:checked~label.sk-toggleable__label {background-color: #d4ebff;}#sk-container-id-13 input.sk-hidden--visually {border: 0;clip: rect(1px 1px 1px 1px);clip: rect(1px, 1px, 1px, 1px);height: 1px;margin: -1px;overflow: hidden;padding: 0;position: absolute;width: 1px;}#sk-container-id-13 div.sk-estimator {font-family: monospace;background-color: #f0f8ff;border: 1px dotted black;border-radius: 0.25em;box-sizing: border-box;margin-bottom: 0.5em;}#sk-container-id-13 div.sk-estimator:hover {background-color: #d4ebff;}#sk-container-id-13 div.sk-parallel-item::after {content: \"\";width: 100%;border-bottom: 1px solid gray;flex-grow: 1;}#sk-container-id-13 div.sk-label:hover label.sk-toggleable__label {background-color: #d4ebff;}#sk-container-id-13 div.sk-serial::before {content: \"\";position: absolute;border-left: 1px solid gray;box-sizing: border-box;top: 0;bottom: 0;left: 50%;z-index: 0;}#sk-container-id-13 div.sk-serial {display: flex;flex-direction: column;align-items: center;background-color: white;padding-right: 0.2em;padding-left: 0.2em;position: relative;}#sk-container-id-13 div.sk-item {position: relative;z-index: 1;}#sk-container-id-13 div.sk-parallel {display: flex;align-items: stretch;justify-content: center;background-color: white;position: relative;}#sk-container-id-13 div.sk-item::before, #sk-container-id-13 div.sk-parallel-item::before {content: \"\";position: absolute;border-left: 1px solid gray;box-sizing: border-box;top: 0;bottom: 0;left: 50%;z-index: -1;}#sk-container-id-13 div.sk-parallel-item {display: flex;flex-direction: column;z-index: 1;position: relative;background-color: white;}#sk-container-id-13 div.sk-parallel-item:first-child::after {align-self: flex-end;width: 50%;}#sk-container-id-13 div.sk-parallel-item:last-child::after {align-self: flex-start;width: 50%;}#sk-container-id-13 div.sk-parallel-item:only-child::after {width: 0;}#sk-container-id-13 div.sk-dashed-wrapped {border: 1px dashed gray;margin: 0 0.4em 0.5em 0.4em;box-sizing: border-box;padding-bottom: 0.4em;background-color: white;}#sk-container-id-13 div.sk-label label {font-family: monospace;font-weight: bold;display: inline-block;line-height: 1.2em;}#sk-container-id-13 div.sk-label-container {text-align: center;}#sk-container-id-13 div.sk-container {/* jupyter's `normalize.less` sets `[hidden] { display: none; }` but bootstrap.min.css set `[hidden] { display: none !important; }` so we also need the `!important` here to be able to override the default hidden behavior on the sphinx rendered scikit-learn.org. See: https://github.com/scikit-learn/scikit-learn/issues/21755 */display: inline-block !important;position: relative;}#sk-container-id-13 div.sk-text-repr-fallback {display: none;}</style><div id=\"sk-container-id-13\" class=\"sk-top-container\"><div class=\"sk-text-repr-fallback\"><pre>GridSearchCV(cv=5,\n",
              "             estimator=VotingClassifier(estimators=[(&#x27;rf&#x27;,\n",
              "                                                     RandomForestClassifier(random_state=42)),\n",
              "                                                    (&#x27;gb&#x27;,\n",
              "                                                     GradientBoostingClassifier(random_state=42))],\n",
              "                                        voting=&#x27;soft&#x27;),\n",
              "             n_jobs=2,\n",
              "             param_grid={&#x27;gb__learning_rate&#x27;: [0.01, 0.1, 0.2],\n",
              "                         &#x27;gb__n_estimators&#x27;: [50, 100, 200],\n",
              "                         &#x27;rf__n_estimators&#x27;: [50, 100, 200]},\n",
              "             scoring=&#x27;accuracy&#x27;)</pre><b>In a Jupyter environment, please rerun this cell to show the HTML representation or trust the notebook. <br />On GitHub, the HTML representation is unable to render, please try loading this page with nbviewer.org.</b></div><div class=\"sk-container\" hidden><div class=\"sk-item sk-dashed-wrapped\"><div class=\"sk-label-container\"><div class=\"sk-label sk-toggleable\"><input class=\"sk-toggleable__control sk-hidden--visually\" id=\"sk-estimator-id-49\" type=\"checkbox\" ><label for=\"sk-estimator-id-49\" class=\"sk-toggleable__label sk-toggleable__label-arrow\">GridSearchCV</label><div class=\"sk-toggleable__content\"><pre>GridSearchCV(cv=5,\n",
              "             estimator=VotingClassifier(estimators=[(&#x27;rf&#x27;,\n",
              "                                                     RandomForestClassifier(random_state=42)),\n",
              "                                                    (&#x27;gb&#x27;,\n",
              "                                                     GradientBoostingClassifier(random_state=42))],\n",
              "                                        voting=&#x27;soft&#x27;),\n",
              "             n_jobs=2,\n",
              "             param_grid={&#x27;gb__learning_rate&#x27;: [0.01, 0.1, 0.2],\n",
              "                         &#x27;gb__n_estimators&#x27;: [50, 100, 200],\n",
              "                         &#x27;rf__n_estimators&#x27;: [50, 100, 200]},\n",
              "             scoring=&#x27;accuracy&#x27;)</pre></div></div></div><div class=\"sk-parallel\"><div class=\"sk-parallel-item\"><div class=\"sk-item\"><div class=\"sk-label-container\"><div class=\"sk-label sk-toggleable\"><input class=\"sk-toggleable__control sk-hidden--visually\" id=\"sk-estimator-id-50\" type=\"checkbox\" ><label for=\"sk-estimator-id-50\" class=\"sk-toggleable__label sk-toggleable__label-arrow\">estimator: VotingClassifier</label><div class=\"sk-toggleable__content\"><pre>VotingClassifier(estimators=[(&#x27;rf&#x27;, RandomForestClassifier(random_state=42)),\n",
              "                             (&#x27;gb&#x27;,\n",
              "                              GradientBoostingClassifier(random_state=42))],\n",
              "                 voting=&#x27;soft&#x27;)</pre></div></div></div><div class=\"sk-serial\"><div class=\"sk-item sk-dashed-wrapped\"><div class=\"sk-parallel\"><div class=\"sk-parallel-item\"><div class=\"sk-item\"><div class=\"sk-label-container\"><div class=\"sk-label sk-toggleable\"><label>rf</label></div></div><div class=\"sk-serial\"><div class=\"sk-item\"><div class=\"sk-estimator sk-toggleable\"><input class=\"sk-toggleable__control sk-hidden--visually\" id=\"sk-estimator-id-51\" type=\"checkbox\" ><label for=\"sk-estimator-id-51\" class=\"sk-toggleable__label sk-toggleable__label-arrow\">RandomForestClassifier</label><div class=\"sk-toggleable__content\"><pre>RandomForestClassifier(random_state=42)</pre></div></div></div></div></div></div><div class=\"sk-parallel-item\"><div class=\"sk-item\"><div class=\"sk-label-container\"><div class=\"sk-label sk-toggleable\"><label>gb</label></div></div><div class=\"sk-serial\"><div class=\"sk-item\"><div class=\"sk-estimator sk-toggleable\"><input class=\"sk-toggleable__control sk-hidden--visually\" id=\"sk-estimator-id-52\" type=\"checkbox\" ><label for=\"sk-estimator-id-52\" class=\"sk-toggleable__label sk-toggleable__label-arrow\">GradientBoostingClassifier</label><div class=\"sk-toggleable__content\"><pre>GradientBoostingClassifier(random_state=42)</pre></div></div></div></div></div></div></div></div></div></div></div></div></div></div></div>"
            ]
          },
          "metadata": {},
          "execution_count": 65
        }
      ],
      "source": [
        "# Fit the models - top 10\n",
        "grid_search_top_10.fit(X_train, y_train_top_10)"
      ]
    },
    {
      "cell_type": "code",
      "execution_count": 66,
      "metadata": {
        "colab": {
          "base_uri": "https://localhost:8080/",
          "height": 168
        },
        "id": "RMS5YPBQicv8",
        "outputId": "5a28cf9e-fcbb-4c26-d153-d6c2120b539d"
      },
      "outputs": [
        {
          "output_type": "execute_result",
          "data": {
            "text/plain": [
              "GridSearchCV(cv=5,\n",
              "             estimator=VotingClassifier(estimators=[('rf',\n",
              "                                                     RandomForestClassifier(random_state=42)),\n",
              "                                                    ('gb',\n",
              "                                                     GradientBoostingClassifier(random_state=42))],\n",
              "                                        voting='soft'),\n",
              "             n_jobs=2,\n",
              "             param_grid={'gb__learning_rate': [0.01, 0.1, 0.2],\n",
              "                         'gb__n_estimators': [50, 100, 200],\n",
              "                         'rf__n_estimators': [50, 100, 200]},\n",
              "             scoring='accuracy')"
            ],
            "text/html": [
              "<style>#sk-container-id-14 {color: black;background-color: white;}#sk-container-id-14 pre{padding: 0;}#sk-container-id-14 div.sk-toggleable {background-color: white;}#sk-container-id-14 label.sk-toggleable__label {cursor: pointer;display: block;width: 100%;margin-bottom: 0;padding: 0.3em;box-sizing: border-box;text-align: center;}#sk-container-id-14 label.sk-toggleable__label-arrow:before {content: \"▸\";float: left;margin-right: 0.25em;color: #696969;}#sk-container-id-14 label.sk-toggleable__label-arrow:hover:before {color: black;}#sk-container-id-14 div.sk-estimator:hover label.sk-toggleable__label-arrow:before {color: black;}#sk-container-id-14 div.sk-toggleable__content {max-height: 0;max-width: 0;overflow: hidden;text-align: left;background-color: #f0f8ff;}#sk-container-id-14 div.sk-toggleable__content pre {margin: 0.2em;color: black;border-radius: 0.25em;background-color: #f0f8ff;}#sk-container-id-14 input.sk-toggleable__control:checked~div.sk-toggleable__content {max-height: 200px;max-width: 100%;overflow: auto;}#sk-container-id-14 input.sk-toggleable__control:checked~label.sk-toggleable__label-arrow:before {content: \"▾\";}#sk-container-id-14 div.sk-estimator input.sk-toggleable__control:checked~label.sk-toggleable__label {background-color: #d4ebff;}#sk-container-id-14 div.sk-label input.sk-toggleable__control:checked~label.sk-toggleable__label {background-color: #d4ebff;}#sk-container-id-14 input.sk-hidden--visually {border: 0;clip: rect(1px 1px 1px 1px);clip: rect(1px, 1px, 1px, 1px);height: 1px;margin: -1px;overflow: hidden;padding: 0;position: absolute;width: 1px;}#sk-container-id-14 div.sk-estimator {font-family: monospace;background-color: #f0f8ff;border: 1px dotted black;border-radius: 0.25em;box-sizing: border-box;margin-bottom: 0.5em;}#sk-container-id-14 div.sk-estimator:hover {background-color: #d4ebff;}#sk-container-id-14 div.sk-parallel-item::after {content: \"\";width: 100%;border-bottom: 1px solid gray;flex-grow: 1;}#sk-container-id-14 div.sk-label:hover label.sk-toggleable__label {background-color: #d4ebff;}#sk-container-id-14 div.sk-serial::before {content: \"\";position: absolute;border-left: 1px solid gray;box-sizing: border-box;top: 0;bottom: 0;left: 50%;z-index: 0;}#sk-container-id-14 div.sk-serial {display: flex;flex-direction: column;align-items: center;background-color: white;padding-right: 0.2em;padding-left: 0.2em;position: relative;}#sk-container-id-14 div.sk-item {position: relative;z-index: 1;}#sk-container-id-14 div.sk-parallel {display: flex;align-items: stretch;justify-content: center;background-color: white;position: relative;}#sk-container-id-14 div.sk-item::before, #sk-container-id-14 div.sk-parallel-item::before {content: \"\";position: absolute;border-left: 1px solid gray;box-sizing: border-box;top: 0;bottom: 0;left: 50%;z-index: -1;}#sk-container-id-14 div.sk-parallel-item {display: flex;flex-direction: column;z-index: 1;position: relative;background-color: white;}#sk-container-id-14 div.sk-parallel-item:first-child::after {align-self: flex-end;width: 50%;}#sk-container-id-14 div.sk-parallel-item:last-child::after {align-self: flex-start;width: 50%;}#sk-container-id-14 div.sk-parallel-item:only-child::after {width: 0;}#sk-container-id-14 div.sk-dashed-wrapped {border: 1px dashed gray;margin: 0 0.4em 0.5em 0.4em;box-sizing: border-box;padding-bottom: 0.4em;background-color: white;}#sk-container-id-14 div.sk-label label {font-family: monospace;font-weight: bold;display: inline-block;line-height: 1.2em;}#sk-container-id-14 div.sk-label-container {text-align: center;}#sk-container-id-14 div.sk-container {/* jupyter's `normalize.less` sets `[hidden] { display: none; }` but bootstrap.min.css set `[hidden] { display: none !important; }` so we also need the `!important` here to be able to override the default hidden behavior on the sphinx rendered scikit-learn.org. See: https://github.com/scikit-learn/scikit-learn/issues/21755 */display: inline-block !important;position: relative;}#sk-container-id-14 div.sk-text-repr-fallback {display: none;}</style><div id=\"sk-container-id-14\" class=\"sk-top-container\"><div class=\"sk-text-repr-fallback\"><pre>GridSearchCV(cv=5,\n",
              "             estimator=VotingClassifier(estimators=[(&#x27;rf&#x27;,\n",
              "                                                     RandomForestClassifier(random_state=42)),\n",
              "                                                    (&#x27;gb&#x27;,\n",
              "                                                     GradientBoostingClassifier(random_state=42))],\n",
              "                                        voting=&#x27;soft&#x27;),\n",
              "             n_jobs=2,\n",
              "             param_grid={&#x27;gb__learning_rate&#x27;: [0.01, 0.1, 0.2],\n",
              "                         &#x27;gb__n_estimators&#x27;: [50, 100, 200],\n",
              "                         &#x27;rf__n_estimators&#x27;: [50, 100, 200]},\n",
              "             scoring=&#x27;accuracy&#x27;)</pre><b>In a Jupyter environment, please rerun this cell to show the HTML representation or trust the notebook. <br />On GitHub, the HTML representation is unable to render, please try loading this page with nbviewer.org.</b></div><div class=\"sk-container\" hidden><div class=\"sk-item sk-dashed-wrapped\"><div class=\"sk-label-container\"><div class=\"sk-label sk-toggleable\"><input class=\"sk-toggleable__control sk-hidden--visually\" id=\"sk-estimator-id-53\" type=\"checkbox\" ><label for=\"sk-estimator-id-53\" class=\"sk-toggleable__label sk-toggleable__label-arrow\">GridSearchCV</label><div class=\"sk-toggleable__content\"><pre>GridSearchCV(cv=5,\n",
              "             estimator=VotingClassifier(estimators=[(&#x27;rf&#x27;,\n",
              "                                                     RandomForestClassifier(random_state=42)),\n",
              "                                                    (&#x27;gb&#x27;,\n",
              "                                                     GradientBoostingClassifier(random_state=42))],\n",
              "                                        voting=&#x27;soft&#x27;),\n",
              "             n_jobs=2,\n",
              "             param_grid={&#x27;gb__learning_rate&#x27;: [0.01, 0.1, 0.2],\n",
              "                         &#x27;gb__n_estimators&#x27;: [50, 100, 200],\n",
              "                         &#x27;rf__n_estimators&#x27;: [50, 100, 200]},\n",
              "             scoring=&#x27;accuracy&#x27;)</pre></div></div></div><div class=\"sk-parallel\"><div class=\"sk-parallel-item\"><div class=\"sk-item\"><div class=\"sk-label-container\"><div class=\"sk-label sk-toggleable\"><input class=\"sk-toggleable__control sk-hidden--visually\" id=\"sk-estimator-id-54\" type=\"checkbox\" ><label for=\"sk-estimator-id-54\" class=\"sk-toggleable__label sk-toggleable__label-arrow\">estimator: VotingClassifier</label><div class=\"sk-toggleable__content\"><pre>VotingClassifier(estimators=[(&#x27;rf&#x27;, RandomForestClassifier(random_state=42)),\n",
              "                             (&#x27;gb&#x27;,\n",
              "                              GradientBoostingClassifier(random_state=42))],\n",
              "                 voting=&#x27;soft&#x27;)</pre></div></div></div><div class=\"sk-serial\"><div class=\"sk-item sk-dashed-wrapped\"><div class=\"sk-parallel\"><div class=\"sk-parallel-item\"><div class=\"sk-item\"><div class=\"sk-label-container\"><div class=\"sk-label sk-toggleable\"><label>rf</label></div></div><div class=\"sk-serial\"><div class=\"sk-item\"><div class=\"sk-estimator sk-toggleable\"><input class=\"sk-toggleable__control sk-hidden--visually\" id=\"sk-estimator-id-55\" type=\"checkbox\" ><label for=\"sk-estimator-id-55\" class=\"sk-toggleable__label sk-toggleable__label-arrow\">RandomForestClassifier</label><div class=\"sk-toggleable__content\"><pre>RandomForestClassifier(random_state=42)</pre></div></div></div></div></div></div><div class=\"sk-parallel-item\"><div class=\"sk-item\"><div class=\"sk-label-container\"><div class=\"sk-label sk-toggleable\"><label>gb</label></div></div><div class=\"sk-serial\"><div class=\"sk-item\"><div class=\"sk-estimator sk-toggleable\"><input class=\"sk-toggleable__control sk-hidden--visually\" id=\"sk-estimator-id-56\" type=\"checkbox\" ><label for=\"sk-estimator-id-56\" class=\"sk-toggleable__label sk-toggleable__label-arrow\">GradientBoostingClassifier</label><div class=\"sk-toggleable__content\"><pre>GradientBoostingClassifier(random_state=42)</pre></div></div></div></div></div></div></div></div></div></div></div></div></div></div></div>"
            ]
          },
          "metadata": {},
          "execution_count": 66
        }
      ],
      "source": [
        "# Fit the models - top 3 without SMOTE\n",
        "grid_search_top_3.fit(X_train_top_3, y_train_top_3)"
      ]
    },
    {
      "cell_type": "code",
      "execution_count": 67,
      "metadata": {
        "colab": {
          "base_uri": "https://localhost:8080/",
          "height": 168
        },
        "id": "2F6DquIgnTmj",
        "outputId": "899c8403-a681-4b8e-eff4-8ade46ee3693"
      },
      "outputs": [
        {
          "output_type": "execute_result",
          "data": {
            "text/plain": [
              "GridSearchCV(cv=5,\n",
              "             estimator=VotingClassifier(estimators=[('rf',\n",
              "                                                     RandomForestClassifier(random_state=42)),\n",
              "                                                    ('gb',\n",
              "                                                     GradientBoostingClassifier(random_state=42))],\n",
              "                                        voting='soft'),\n",
              "             n_jobs=-1,\n",
              "             param_grid={'gb__learning_rate': [0.01, 0.1, 0.2],\n",
              "                         'gb__n_estimators': [50, 100, 200],\n",
              "                         'rf__n_estimators': [50, 100, 200]})"
            ],
            "text/html": [
              "<style>#sk-container-id-15 {color: black;background-color: white;}#sk-container-id-15 pre{padding: 0;}#sk-container-id-15 div.sk-toggleable {background-color: white;}#sk-container-id-15 label.sk-toggleable__label {cursor: pointer;display: block;width: 100%;margin-bottom: 0;padding: 0.3em;box-sizing: border-box;text-align: center;}#sk-container-id-15 label.sk-toggleable__label-arrow:before {content: \"▸\";float: left;margin-right: 0.25em;color: #696969;}#sk-container-id-15 label.sk-toggleable__label-arrow:hover:before {color: black;}#sk-container-id-15 div.sk-estimator:hover label.sk-toggleable__label-arrow:before {color: black;}#sk-container-id-15 div.sk-toggleable__content {max-height: 0;max-width: 0;overflow: hidden;text-align: left;background-color: #f0f8ff;}#sk-container-id-15 div.sk-toggleable__content pre {margin: 0.2em;color: black;border-radius: 0.25em;background-color: #f0f8ff;}#sk-container-id-15 input.sk-toggleable__control:checked~div.sk-toggleable__content {max-height: 200px;max-width: 100%;overflow: auto;}#sk-container-id-15 input.sk-toggleable__control:checked~label.sk-toggleable__label-arrow:before {content: \"▾\";}#sk-container-id-15 div.sk-estimator input.sk-toggleable__control:checked~label.sk-toggleable__label {background-color: #d4ebff;}#sk-container-id-15 div.sk-label input.sk-toggleable__control:checked~label.sk-toggleable__label {background-color: #d4ebff;}#sk-container-id-15 input.sk-hidden--visually {border: 0;clip: rect(1px 1px 1px 1px);clip: rect(1px, 1px, 1px, 1px);height: 1px;margin: -1px;overflow: hidden;padding: 0;position: absolute;width: 1px;}#sk-container-id-15 div.sk-estimator {font-family: monospace;background-color: #f0f8ff;border: 1px dotted black;border-radius: 0.25em;box-sizing: border-box;margin-bottom: 0.5em;}#sk-container-id-15 div.sk-estimator:hover {background-color: #d4ebff;}#sk-container-id-15 div.sk-parallel-item::after {content: \"\";width: 100%;border-bottom: 1px solid gray;flex-grow: 1;}#sk-container-id-15 div.sk-label:hover label.sk-toggleable__label {background-color: #d4ebff;}#sk-container-id-15 div.sk-serial::before {content: \"\";position: absolute;border-left: 1px solid gray;box-sizing: border-box;top: 0;bottom: 0;left: 50%;z-index: 0;}#sk-container-id-15 div.sk-serial {display: flex;flex-direction: column;align-items: center;background-color: white;padding-right: 0.2em;padding-left: 0.2em;position: relative;}#sk-container-id-15 div.sk-item {position: relative;z-index: 1;}#sk-container-id-15 div.sk-parallel {display: flex;align-items: stretch;justify-content: center;background-color: white;position: relative;}#sk-container-id-15 div.sk-item::before, #sk-container-id-15 div.sk-parallel-item::before {content: \"\";position: absolute;border-left: 1px solid gray;box-sizing: border-box;top: 0;bottom: 0;left: 50%;z-index: -1;}#sk-container-id-15 div.sk-parallel-item {display: flex;flex-direction: column;z-index: 1;position: relative;background-color: white;}#sk-container-id-15 div.sk-parallel-item:first-child::after {align-self: flex-end;width: 50%;}#sk-container-id-15 div.sk-parallel-item:last-child::after {align-self: flex-start;width: 50%;}#sk-container-id-15 div.sk-parallel-item:only-child::after {width: 0;}#sk-container-id-15 div.sk-dashed-wrapped {border: 1px dashed gray;margin: 0 0.4em 0.5em 0.4em;box-sizing: border-box;padding-bottom: 0.4em;background-color: white;}#sk-container-id-15 div.sk-label label {font-family: monospace;font-weight: bold;display: inline-block;line-height: 1.2em;}#sk-container-id-15 div.sk-label-container {text-align: center;}#sk-container-id-15 div.sk-container {/* jupyter's `normalize.less` sets `[hidden] { display: none; }` but bootstrap.min.css set `[hidden] { display: none !important; }` so we also need the `!important` here to be able to override the default hidden behavior on the sphinx rendered scikit-learn.org. See: https://github.com/scikit-learn/scikit-learn/issues/21755 */display: inline-block !important;position: relative;}#sk-container-id-15 div.sk-text-repr-fallback {display: none;}</style><div id=\"sk-container-id-15\" class=\"sk-top-container\"><div class=\"sk-text-repr-fallback\"><pre>GridSearchCV(cv=5,\n",
              "             estimator=VotingClassifier(estimators=[(&#x27;rf&#x27;,\n",
              "                                                     RandomForestClassifier(random_state=42)),\n",
              "                                                    (&#x27;gb&#x27;,\n",
              "                                                     GradientBoostingClassifier(random_state=42))],\n",
              "                                        voting=&#x27;soft&#x27;),\n",
              "             n_jobs=-1,\n",
              "             param_grid={&#x27;gb__learning_rate&#x27;: [0.01, 0.1, 0.2],\n",
              "                         &#x27;gb__n_estimators&#x27;: [50, 100, 200],\n",
              "                         &#x27;rf__n_estimators&#x27;: [50, 100, 200]})</pre><b>In a Jupyter environment, please rerun this cell to show the HTML representation or trust the notebook. <br />On GitHub, the HTML representation is unable to render, please try loading this page with nbviewer.org.</b></div><div class=\"sk-container\" hidden><div class=\"sk-item sk-dashed-wrapped\"><div class=\"sk-label-container\"><div class=\"sk-label sk-toggleable\"><input class=\"sk-toggleable__control sk-hidden--visually\" id=\"sk-estimator-id-57\" type=\"checkbox\" ><label for=\"sk-estimator-id-57\" class=\"sk-toggleable__label sk-toggleable__label-arrow\">GridSearchCV</label><div class=\"sk-toggleable__content\"><pre>GridSearchCV(cv=5,\n",
              "             estimator=VotingClassifier(estimators=[(&#x27;rf&#x27;,\n",
              "                                                     RandomForestClassifier(random_state=42)),\n",
              "                                                    (&#x27;gb&#x27;,\n",
              "                                                     GradientBoostingClassifier(random_state=42))],\n",
              "                                        voting=&#x27;soft&#x27;),\n",
              "             n_jobs=-1,\n",
              "             param_grid={&#x27;gb__learning_rate&#x27;: [0.01, 0.1, 0.2],\n",
              "                         &#x27;gb__n_estimators&#x27;: [50, 100, 200],\n",
              "                         &#x27;rf__n_estimators&#x27;: [50, 100, 200]})</pre></div></div></div><div class=\"sk-parallel\"><div class=\"sk-parallel-item\"><div class=\"sk-item\"><div class=\"sk-label-container\"><div class=\"sk-label sk-toggleable\"><input class=\"sk-toggleable__control sk-hidden--visually\" id=\"sk-estimator-id-58\" type=\"checkbox\" ><label for=\"sk-estimator-id-58\" class=\"sk-toggleable__label sk-toggleable__label-arrow\">estimator: VotingClassifier</label><div class=\"sk-toggleable__content\"><pre>VotingClassifier(estimators=[(&#x27;rf&#x27;, RandomForestClassifier(random_state=42)),\n",
              "                             (&#x27;gb&#x27;,\n",
              "                              GradientBoostingClassifier(random_state=42))],\n",
              "                 voting=&#x27;soft&#x27;)</pre></div></div></div><div class=\"sk-serial\"><div class=\"sk-item sk-dashed-wrapped\"><div class=\"sk-parallel\"><div class=\"sk-parallel-item\"><div class=\"sk-item\"><div class=\"sk-label-container\"><div class=\"sk-label sk-toggleable\"><label>rf</label></div></div><div class=\"sk-serial\"><div class=\"sk-item\"><div class=\"sk-estimator sk-toggleable\"><input class=\"sk-toggleable__control sk-hidden--visually\" id=\"sk-estimator-id-59\" type=\"checkbox\" ><label for=\"sk-estimator-id-59\" class=\"sk-toggleable__label sk-toggleable__label-arrow\">RandomForestClassifier</label><div class=\"sk-toggleable__content\"><pre>RandomForestClassifier(random_state=42)</pre></div></div></div></div></div></div><div class=\"sk-parallel-item\"><div class=\"sk-item\"><div class=\"sk-label-container\"><div class=\"sk-label sk-toggleable\"><label>gb</label></div></div><div class=\"sk-serial\"><div class=\"sk-item\"><div class=\"sk-estimator sk-toggleable\"><input class=\"sk-toggleable__control sk-hidden--visually\" id=\"sk-estimator-id-60\" type=\"checkbox\" ><label for=\"sk-estimator-id-60\" class=\"sk-toggleable__label sk-toggleable__label-arrow\">GradientBoostingClassifier</label><div class=\"sk-toggleable__content\"><pre>GradientBoostingClassifier(random_state=42)</pre></div></div></div></div></div></div></div></div></div></div></div></div></div></div></div>"
            ]
          },
          "metadata": {},
          "execution_count": 67
        }
      ],
      "source": [
        "# # Fit the models - top 3 with SMOTE\n",
        "#grid_search_top_3_smote = GridSearchCV(estimator=ensemble_model_top_3, param_grid=param_grid, cv=5, scoring='accuracy', n_jobs=n_cpus) #use cpus that are available (2)\n",
        "grid_search_top_3_smote = GridSearchCV(estimator=ensemble_model_top_3, param_grid=param_grid, cv=5, n_jobs=-1)  # Use all available cores\n",
        "grid_search_top_3_smote.fit(X_train_top_3_smote, y_train_top_3_smote)"
      ]
    },
    {
      "cell_type": "markdown",
      "source": [
        "#### Code Debugging"
      ],
      "metadata": {
        "id": "sheaxjhCKBqw"
      }
    },
    {
      "cell_type": "markdown",
      "source": [
        "There are several factors that could be causing your grid search with SMOTE to take longer than other grid searches. Here's a breakdown of the potential reasons and how to address them:\n",
        "\n",
        "1. SMOTE Itself:\n",
        "\n",
        "    Data Expansion: SMOTE (Synthetic Minority Over-sampling Technique) artificially generates new samples for the minority class. This increases the size of your training dataset, directly impacting the time it takes for your models to train during the grid search.\n",
        "\n",
        "2. Model Complexity:\n",
        "\n",
        "    Ensemble Methods: If you're using complex ensemble methods (like Random Forest, Gradient Boosting) within your grid search, the training time will naturally increase. These models often involve fitting multiple base estimators.\n",
        "    Hyperparameter Space: A larger hyperparameter search space (more parameters to tune and a wider range of values) means the grid search has to evaluate more combinations, leading to longer runtimes.\n",
        "\n",
        "3. Data Size:\n",
        "\n",
        "    Large Datasets: Even without SMOTE, larger datasets will always take longer to process. The combination of SMOTE and a large dataset can significantly amplify the training time.\n",
        "\n",
        "4. Hardware Limitations:\n",
        "\n",
        "    CPU/Memory Constraints: The speed of your computer's processor and the amount of available RAM directly affect how quickly the grid search can complete.\n",
        "\n",
        "How to Diagnose and Improve:\n",
        "\n",
        "    Time Profiling: Use Python's profiling tools (cProfile or line_profiler) to pinpoint the specific parts of your code that are consuming the most time. This will help you focus your optimization efforts.\n",
        "\n",
        "    SMOTE Variations: Experiment with different SMOTE variants or other oversampling techniques. Some might be more computationally efficient for your specific dataset.\n",
        "\n",
        "    Model Simplification: If possible, try simpler models or reduce the complexity of your ensemble methods (e.g., fewer trees in a Random Forest).\n",
        "\n",
        "    Hyperparameter Space Reduction: Carefully analyze your hyperparameter space. Are there any parameters you can fix or narrow down the range for?\n",
        "\n",
        "    Cross-Validation Folds: Reduce the number of cross-validation folds (the cv parameter in GridSearchCV) if it's feasible for your dataset.\n",
        "\n",
        "    Hardware Upgrade: If your resources are very limited, consider upgrading your hardware (more RAM, faster CPU) for a substantial performance boost.\n",
        "\n",
        "    Parallelization: If your hardware supports it, explore parallelizing your grid search\n",
        "\n"
      ],
      "metadata": {
        "id": "3uAveIdvFZ6l"
      }
    },
    {
      "source": [
        "# import cProfile\n",
        "# cProfile.run('grid_search_top_3_smote.fit(X_train_top_3_smote, y_train_top_3_smote)', 'grid_search_stats')\n",
        "# import pstats\n",
        "#    p = pstats.Stats('grid_search_stats')\n",
        "#    p.sort_stats('cumulative').print_stats(20)  # Print top 20 most time-consuming functions\n",
        "#!pip install line_profiler\n",
        "# from line_profiler import LineProfiler\n",
        "\n",
        "#    def my_grid_search():\n",
        "#        grid_search_top_3_smote.fit(X_train_top_3_smote, y_train_top_3_smote)\n",
        "\n",
        "#    lp = LineProfiler()\n",
        "#    lp_wrapper = lp(my_grid_search)\n",
        "#    lp_wrapper()"
      ],
      "cell_type": "code",
      "metadata": {
        "id": "Krn0qJWEFjje"
      },
      "execution_count": 68,
      "outputs": []
    },
    {
      "cell_type": "markdown",
      "source": [
        "### Champion Model"
      ],
      "metadata": {
        "id": "T6QBJmFZKKPE"
      }
    },
    {
      "cell_type": "code",
      "execution_count": 69,
      "metadata": {
        "id": "85agsLGFkcsj"
      },
      "outputs": [],
      "source": [
        "# Best models\n",
        "best_model_top_10 = grid_search_top_10.best_estimator_\n",
        "best_model_top_3 = grid_search_top_3.best_estimator_\n",
        "best_model_top_3_smote = grid_search_top_3_smote.best_estimator_"
      ]
    },
    {
      "cell_type": "markdown",
      "source": [
        "## Prediction/Performance Evaluations"
      ],
      "metadata": {
        "id": "ztYsyBgVWeAn"
      }
    },
    {
      "cell_type": "code",
      "execution_count": 70,
      "metadata": {
        "id": "KERk5Pv2ifO7",
        "colab": {
          "base_uri": "https://localhost:8080/"
        },
        "outputId": "d41509be-5491-48b9-cdb2-2b33a2adc969"
      },
      "outputs": [
        {
          "output_type": "stream",
          "name": "stdout",
          "text": [
            "Top 10 Accuracy: 0.9993730407523511\n",
            "Top 10 Precision: 1.0\n",
            "Top 10 Recall: 0.9985380116959064\n",
            "Top 10 F1 Score: 0.9992684711046086\n",
            "Top 10 Classification Report:\n",
            "              precision    recall  f1-score   support\n",
            "\n",
            "       False       1.00      1.00      1.00       911\n",
            "        True       1.00      1.00      1.00       684\n",
            "\n",
            "    accuracy                           1.00      1595\n",
            "   macro avg       1.00      1.00      1.00      1595\n",
            "weighted avg       1.00      1.00      1.00      1595\n",
            "\n",
            "Top 3 Accuracy: 1.0\n",
            "Top 3 Precision: 1.0\n",
            "Top 3 Recall: 1.0\n",
            "Top 3 F1 Score: 1.0\n",
            "Top 3 Classification Report:\n",
            "              precision    recall  f1-score   support\n",
            "\n",
            "       False       1.00      1.00      1.00      1383\n",
            "        True       1.00      1.00      1.00       212\n",
            "\n",
            "    accuracy                           1.00      1595\n",
            "   macro avg       1.00      1.00      1.00      1595\n",
            "weighted avg       1.00      1.00      1.00      1595\n",
            "\n",
            "Top 3 with SMOTE Accuracy: 0.9993730407523511\n",
            "Top 3 with SMOTE Precision: 0.9953051643192489\n",
            "Top 3 with SMOTE Recall: 1.0\n",
            "Top 3 with SMOTE F1 Score: 0.9976470588235293\n",
            "Top 3 with SMOTE Classification Report:\n",
            "              precision    recall  f1-score   support\n",
            "\n",
            "       False       1.00      1.00      1.00      1383\n",
            "        True       1.00      1.00      1.00       212\n",
            "\n",
            "    accuracy                           1.00      1595\n",
            "   macro avg       1.00      1.00      1.00      1595\n",
            "weighted avg       1.00      1.00      1.00      1595\n",
            "\n"
          ]
        }
      ],
      "source": [
        "# Predict and evaluate the model for top 10 finishes\n",
        "y_pred_top_10 = best_model_top_10.predict(X_test)\n",
        "accuracy_top_10 = accuracy_score(y_test_top_10, y_pred_top_10)\n",
        "precision_top_10 = precision_score(y_test_top_10, y_pred_top_10)\n",
        "recall_top_10 = recall_score(y_test_top_10, y_pred_top_10)\n",
        "f1_top_10 = f1_score(y_test_top_10, y_pred_top_10)\n",
        "class_report_top_10 = classification_report(y_test_top_10, y_pred_top_10)\n",
        "\n",
        "print(f'Top 10 Accuracy: {accuracy_top_10}')\n",
        "print(f'Top 10 Precision: {precision_top_10}')\n",
        "print(f'Top 10 Recall: {recall_top_10}')\n",
        "print(f'Top 10 F1 Score: {f1_top_10}')\n",
        "print('Top 10 Classification Report:')\n",
        "print(class_report_top_10)\n",
        "\n",
        "\n",
        "# Predict and evaluate the model for top 3 finishes\n",
        "y_pred_top_3 = best_model_top_3.predict(X_test_top_3)\n",
        "accuracy_top_3 = accuracy_score(y_test_top_3, y_pred_top_3)\n",
        "precision_top_3 = precision_score(y_test_top_3, y_pred_top_3)\n",
        "recall_top_3 = recall_score(y_test_top_3, y_pred_top_3)\n",
        "f1_top_3 = f1_score(y_test_top_3, y_pred_top_3)\n",
        "class_report_top_3 = classification_report(y_test_top_3, y_pred_top_3)\n",
        "\n",
        "print(f'Top 3 Accuracy: {accuracy_top_3}')\n",
        "print(f'Top 3 Precision: {precision_top_3}')\n",
        "print(f'Top 3 Recall: {recall_top_3}')\n",
        "print(f'Top 3 F1 Score: {f1_top_3}')\n",
        "print('Top 3 Classification Report:')\n",
        "print(class_report_top_3)\n",
        "\n",
        "# Predict and evaluate the model for top 3 finishes with SMOTE\n",
        "y_pred_top_3_smote = best_model_top_3_smote.predict(X_test_top_3)\n",
        "accuracy_top_3_smote = accuracy_score(y_test_top_3, y_pred_top_3_smote)\n",
        "precision_top_3_smote = precision_score(y_test_top_3, y_pred_top_3_smote)\n",
        "recall_top_3_smote = recall_score(y_test_top_3, y_pred_top_3_smote)\n",
        "f1_top_3_smote = f1_score(y_test_top_3, y_pred_top_3_smote)\n",
        "class_report_top_3_smote = classification_report(y_test_top_3, y_pred_top_3_smote)\n",
        "\n",
        "print(f'Top 3 with SMOTE Accuracy: {accuracy_top_3_smote}')\n",
        "print(f'Top 3 with SMOTE Precision: {precision_top_3_smote}')\n",
        "print(f'Top 3 with SMOTE Recall: {recall_top_3_smote}')\n",
        "print(f'Top 3 with SMOTE F1 Score: {f1_top_3_smote}')\n",
        "print('Top 3 with SMOTE Classification Report:')\n",
        "print(class_report_top_3_smote)"
      ]
    },
    {
      "cell_type": "markdown",
      "source": [
        "# Predictions"
      ],
      "metadata": {
        "id": "uofOaulJWlCz"
      }
    },
    {
      "cell_type": "code",
      "source": [
        "# Create a list of driver names\n",
        "driver_names = [\n",
        "    'Hamilton', 'Verstappen', 'Leclerc', 'Russell', 'Pérez', 'Piastri', 'Sainz', 'Bearman', 'Hulkenberg'\n",
        "    'Norris', 'Ricciardo', 'Alonso', 'Ocon', 'Gasly', 'Zhou', 'Bottas', 'Stroll', 'Tsunoda']\n",
        "\n",
        "# Get the driver IDs for the given driver names\n",
        "driver_ids = drivers[drivers['surname'].isin(driver_names)]['driverId'].tolist()\n",
        "\n",
        "# Get the driver IDs for the given driver names\n",
        "driver_ids = drivers[drivers['surname'].isin(driver_names)]['driverId'].tolist()\n",
        "driver_ids.remove(708)  # Remove 708\n",
        "driver_ids.remove(50)   # Remove 50\n",
        "\n",
        "# Initialize lists to store predictions for the next race\n",
        "predictions_top_10 = []\n",
        "predictions_top_3 = []\n",
        "predictions_top_3_smote = []\n",
        "\n",
        "# Loop through each driver and make predictions for the next race\n",
        "for driver_id in driver_ids:\n",
        "    driver_name = drivers[drivers['driverId'] == driver_id]['surname'].values[0]\n",
        "\n",
        "    # Get historical performance metrics\n",
        "    driver_results = results[results['driverId'] == driver_id]\n",
        "    driver_qualifying = qualifying[qualifying['driverId'] == driver_id]\n",
        "\n",
        "    # Calculate average starting grid position\n",
        "    avg_grid = driver_results['grid'].mean()\n",
        "\n",
        "    # Calculate average finishing position per season\n",
        "    avg_position_per_season = driver_results['positionOrder'].mean()\n",
        "\n",
        "    # Calculate average qualifying position\n",
        "    avg_qualifying_position = driver_qualifying['position'].mean()\n",
        "\n",
        "    # Calculate the team points for the team the driver is currently in\n",
        "    current_team_id = driver_results['constructorId'].values[-1]\n",
        "    avg_team_points = constructor_results[constructor_results['constructorId'] == current_team_id]['points'].mean()\n",
        "\n",
        "    # Calculate interaction features\n",
        "    qualifying_position_x_race_position = avg_grid * avg_position_per_season\n",
        "    qualifying_position_x_team_points = avg_grid * avg_team_points\n",
        "\n",
        "    # Calculate the number of top 10 and top 3 finishes for the driver overall\n",
        "    top_10_count = top_10_counts[top_10_counts['driverId'] == driver_id]['top_10_count'].values[0]\n",
        "    top_3_count = top_3_counts[top_3_counts['driverId'] == driver_id]['top_3_count'].values[0]\n",
        "\n",
        "    # Calculate average points per race\n",
        "    points_per_race = driver_results['points_per_race'].mean()\n",
        "\n",
        "    # Calculate average constructor points per race\n",
        "    constructor_points_per_race = driver_results['constructor_points_per_race'].mean()\n",
        "\n",
        "    # Calculate average driver standing\n",
        "    driver_standing = driver_results['driver_standing'].mean()\n",
        "\n",
        "    # Calculate average pit stop time and lap time\n",
        "    avg_pit_stop_time = driver_results['avg_pit_stop_time'].mean()\n",
        "    avg_lap_time = driver_results['avg_lap_time'].mean()\n",
        "\n",
        "    # Compile feature values into a DataFrame\n",
        "    driver_features = pd.DataFrame([{\n",
        "        'grid': avg_grid,\n",
        "        'avg_position_per_season': avg_position_per_season,\n",
        "        'avg_team_points': avg_team_points,\n",
        "        'avg_qualifying_position': avg_qualifying_position,\n",
        "        'qualifying_position_x_race_position': qualifying_position_x_race_position,\n",
        "        'qualifying_position_x_team_points': qualifying_position_x_team_points,\n",
        "        'points_per_race': points_per_race,\n",
        "        'constructor_points_per_race': constructor_points_per_race,\n",
        "        'driver_standing': driver_standing,\n",
        "        'top_10_count': top_10_count,\n",
        "        'top_3_count': top_3_count,\n",
        "        'avg_pit_stop_time': avg_pit_stop_time,\n",
        "        'avg_lap_time': avg_lap_time\n",
        "    }])\n",
        "\n",
        "    # Handle NaN values by replacing them with the mean of the column\n",
        "    #driver_features.fillna(driver_features.mean(), inplace=True) #still error\n",
        "    driver_features.fillna(0, inplace=True)\n",
        "\n",
        "    # Make predictions for top 10 and top 3 finishes\n",
        "    prediction_top_10 = best_model_top_10.predict(driver_features)[0]\n",
        "    prediction_top_3 = best_model_top_3.predict(driver_features)[0]\n",
        "    prediction_top_3_smote = best_model_top_3_smote.predict(driver_features)[0]\n",
        "\n",
        "    # Store predictions\n",
        "    predictions_top_10.append((driver_name, prediction_top_10))\n",
        "    predictions_top_3.append((driver_name, prediction_top_3))\n",
        "    predictions_top_3_smote.append((driver_name, prediction_top_3_smote))\n",
        "\n",
        "# Print predictions for all drivers\n",
        "print(\"Predictions for the next race:\")\n",
        "print(\"\\nTop 10 Predictions:\")\n",
        "for driver_name, pred_top_10 in predictions_top_10:\n",
        "    print(f\"Will {driver_name} place top 10: {pred_top_10}\")\n",
        "print(\"\\nTop 3 Predictions:\")\n",
        "for driver_name, pred_top_3 in predictions_top_3:\n",
        "    print(f\"Will {driver_name} place top 3: {pred_top_3}\")\n",
        "print(\"\\nTop 3 SMOTE Predictions:\")\n",
        "for driver_name, pred_top_3_smote in predictions_top_3_smote:\n",
        "    print(f\"Will {driver_name} place top 3: {pred_top_3}\")"
      ],
      "metadata": {
        "colab": {
          "base_uri": "https://localhost:8080/"
        },
        "id": "CbtJlYhdDB2a",
        "outputId": "316ec69b-5c48-4990-e588-678533f38967"
      },
      "execution_count": 78,
      "outputs": [
        {
          "output_type": "stream",
          "name": "stdout",
          "text": [
            "Predictions for the next race:\n",
            "\n",
            "Top 10 Predictions:\n",
            "Will Hamilton place top 10: True\n",
            "Will Alonso place top 10: True\n",
            "Will Gasly place top 10: True\n",
            "Will Pérez place top 10: True\n",
            "Will Ricciardo place top 10: True\n",
            "Will Bottas place top 10: True\n",
            "Will Verstappen place top 10: True\n",
            "Will Sainz place top 10: True\n",
            "Will Ocon place top 10: True\n",
            "Will Stroll place top 10: True\n",
            "Will Leclerc place top 10: True\n",
            "Will Russell place top 10: True\n",
            "Will Tsunoda place top 10: False\n",
            "Will Zhou place top 10: False\n",
            "Will Piastri place top 10: True\n",
            "Will Bearman place top 10: True\n",
            "\n",
            "Top 3 Predictions:\n",
            "Will Hamilton place top 3: True\n",
            "Will Alonso place top 3: True\n",
            "Will Gasly place top 3: False\n",
            "Will Pérez place top 3: True\n",
            "Will Ricciardo place top 3: False\n",
            "Will Bottas place top 3: True\n",
            "Will Verstappen place top 3: True\n",
            "Will Sainz place top 3: True\n",
            "Will Ocon place top 3: False\n",
            "Will Stroll place top 3: False\n",
            "Will Leclerc place top 3: True\n",
            "Will Russell place top 3: False\n",
            "Will Tsunoda place top 3: False\n",
            "Will Zhou place top 3: False\n",
            "Will Piastri place top 3: False\n",
            "Will Bearman place top 3: True\n",
            "\n",
            "Top 3 SMOTE Predictions:\n",
            "SMOTE: Will Hamilton place top 3: True\n",
            "SMOTE: Will Alonso place top 3: True\n",
            "SMOTE: Will Gasly place top 3: True\n",
            "SMOTE: Will Pérez place top 3: True\n",
            "SMOTE: Will Ricciardo place top 3: True\n",
            "SMOTE: Will Bottas place top 3: True\n",
            "SMOTE: Will Verstappen place top 3: True\n",
            "SMOTE: Will Sainz place top 3: True\n",
            "SMOTE: Will Ocon place top 3: True\n",
            "SMOTE: Will Stroll place top 3: True\n",
            "SMOTE: Will Leclerc place top 3: True\n",
            "SMOTE: Will Russell place top 3: True\n",
            "SMOTE: Will Tsunoda place top 3: True\n",
            "SMOTE: Will Zhou place top 3: True\n",
            "SMOTE: Will Piastri place top 3: True\n",
            "SMOTE: Will Bearman place top 3: True\n"
          ]
        }
      ]
    },
    {
      "cell_type": "markdown",
      "source": [
        "### Stress Testing"
      ],
      "metadata": {
        "id": "sl2lJBR4Vnxb"
      }
    },
    {
      "cell_type": "code",
      "source": [
        "# Perform 5-fold cross-validation for top 10 and top 3 models\n",
        "cv_scores_top_10 = cross_val_score(best_model_top_10, features, target_top_10, cv=5, scoring='accuracy')\n",
        "cv_scores_top_3 = cross_val_score(best_model_top_3, features, target_top_3, cv=5, scoring='accuracy')\n",
        "cv_scores_top_3_smote = cross_val_score(best_model_top_3_smote, features, target_top_3, cv=5, scoring='accuracy')\n",
        "\n",
        "print(f'Cross-Validation Scores for Top 10: {cv_scores_top_10}')\n",
        "print(f'Mean Cross-Validation Score for Top 10: {cv_scores_top_10.mean()}')\n",
        "print(f'Cross-Validation Scores for Top 3: {cv_scores_top_3}')\n",
        "print(f'Mean Cross-Validation Score for Top 3: {cv_scores_top_3.mean()}')\n",
        "print(f'Cross-Validation Scores for Top 3 SMOTE: {cv_scores_top_3_smote}')\n",
        "print(f'Mean Cross-Validation Score for Top 3 SMOTE: {cv_scores_top_3_smote.mean()}')\n",
        "\n",
        "# Additional Train-Test Splits for top 10 model\n",
        "test_sizes = [0.1, 0.3, 0.4]\n",
        "train_test_accuracies_top_10 = {}\n",
        "for test_size in test_sizes:\n",
        "    X_train, X_test, y_train, y_test = train_test_split(features, target_top_10, test_size=test_size, random_state=42)\n",
        "    best_model_top_10.fit(X_train, y_train)\n",
        "    y_pred = best_model_top_10.predict(X_test)\n",
        "    accuracy = accuracy_score(y_test, y_pred)\n",
        "    train_test_accuracies_top_10[test_size] = accuracy\n",
        "\n",
        "# Additional Train-Test Splits for top 3 model\n",
        "train_test_accuracies_top_3 = {}\n",
        "for test_size in test_sizes:\n",
        "    X_train, X_test, y_train, y_test = train_test_split(features, target_top_3, test_size=test_size, random_state=42)\n",
        "    best_model_top_3.fit(X_train, y_train)\n",
        "    y_pred = best_model_top_3.predict(X_test)\n",
        "    accuracy = accuracy_score(y_test, y_pred)\n",
        "    train_test_accuracies_top_3[test_size] = accuracy\n",
        "\n",
        "\n",
        "\n",
        "# Additional Train-Test Splits for top 3 SMOTE model\n",
        "train_test_accuracies_top_3_smote = {}\n",
        "for test_size in test_sizes:\n",
        "    X_train, X_test, y_train, y_test = train_test_split(features, target_top_3, test_size=test_size, random_state=42)\n",
        "    best_model_top_3_smote.fit(X_train, y_train)\n",
        "    y_pred = best_model_top_3_smote.predict(X_test)\n",
        "    accuracy = accuracy_score(y_test, y_pred)\n",
        "    train_test_accuracies_top_3_smote[test_size] = accuracy\n",
        "\n",
        "print(f'Train-Test Accuracies for Top 10: {train_test_accuracies_top_10}')\n",
        "print(f'Train-Test Accuracies for Top 3: {train_test_accuracies_top_3}')\n",
        "print(f'Train-Test Accuracies for Top 3 SMOTE: {train_test_accuracies_top_3_smote}')"
      ],
      "metadata": {
        "colab": {
          "base_uri": "https://localhost:8080/"
        },
        "id": "iZen0lr-SJRj",
        "outputId": "e15a608c-f8d8-45e3-f880-b4bcb65d2a57"
      },
      "execution_count": 85,
      "outputs": [
        {
          "output_type": "stream",
          "name": "stdout",
          "text": [
            "Cross-Validation Scores for Top 10: [0.99874608 1.         0.99811912 0.99561129 0.99561129]\n",
            "Mean Cross-Validation Score for Top 10: 0.9976175548589342\n",
            "Cross-Validation Scores for Top 3: [0.97429467 1.         0.99874608 0.99122257 0.96802508]\n",
            "Mean Cross-Validation Score for Top 3: 0.9864576802507837\n",
            "Cross-Validation Scores for Top 3 SMOTE: [0.97241379 1.         0.99874608 0.99122257 0.96802508]\n",
            "Mean Cross-Validation Score for Top 3 SMOTE: 0.9860815047021945\n",
            "Train-Test Accuracies for Top 10: {0.1: 1.0, 0.3: 0.9991642290012537, 0.4: 0.9996865203761756}\n",
            "Train-Test Accuracies for Top 3: {0.1: 1.0, 0.3: 0.9995821145006268, 0.4: 0.9987460815047022}\n",
            "Train-Test Accuracies for Top 3 SMOTE: {0.1: 1.0, 0.3: 0.9991642290012537, 0.4: 0.9987460815047022}\n"
          ]
        }
      ]
    },
    {
      "cell_type": "code",
      "source": [
        "import numpy as np\n",
        "# Add noise to the features for robustness check\n",
        "features_noisy_top_10 = features.copy()\n",
        "noise_top_10 = np.random.normal(0, 0.1, features.shape)\n",
        "features_noisy_top_10 += noise_top_10\n",
        "\n",
        "# Split the noisy data for top 10 model\n",
        "X_train, X_test, y_train, y_test = train_test_split(features_noisy_top_10, target_top_10, test_size=0.2, random_state=42)\n",
        "best_model_top_10.fit(X_train, y_train)\n",
        "y_pred = best_model_top_10.predict(X_test)\n",
        "accuracy_noisy_top_10 = accuracy_score(y_test, y_pred)\n",
        "\n",
        "# Add noise to the features for robustness check\n",
        "features_noisy_top_3 = features.copy()\n",
        "noise_top_3 = np.random.normal(0, 0.1, features.shape)\n",
        "features_noisy_top_3 += noise_top_3\n",
        "\n",
        "# Split the noisy data for top 3 model\n",
        "X_train, X_test, y_train, y_test = train_test_split(features_noisy_top_3, target_top_3, test_size=0.2, random_state=42)\n",
        "best_model_top_3.fit(X_train, y_train)\n",
        "y_pred = best_model_top_3.predict(X_test)\n",
        "accuracy_noisy_top_3 = accuracy_score(y_test, y_pred)\n",
        "\n",
        "# Add noise to the features for robustness check\n",
        "features_noisy_top_3_smote = features.copy()\n",
        "noise_top_3_smote = np.random.normal(0, 0.1, features.shape)\n",
        "features_noisy_top_3_smote += noise_top_3_smote\n",
        "\n",
        "# Split the noisy data for top 3 model\n",
        "X_train, X_test, y_train, y_test = train_test_split(features_noisy_top_3, target_top_3, test_size=0.2, random_state=42)\n",
        "best_model_top_3_smote.fit(X_train, y_train)\n",
        "y_pred = best_model_top_3_smote.predict(X_test)\n",
        "accuracy_noisy_top_3_smote = accuracy_score(y_test, y_pred)\n",
        "\n",
        "print(f'Accuracy for Top 10 with Noisy Data: {accuracy_noisy_top_10}')\n",
        "print(f'Accuracy for Top 3 with Noisy Data: {accuracy_noisy_top_3}')\n",
        "print(f'Accuracy for Top 3 SMOTE with Noisy Data: {accuracy_noisy_top_3_smote}')"
      ],
      "metadata": {
        "colab": {
          "base_uri": "https://localhost:8080/"
        },
        "id": "jmJmWLyrSguI",
        "outputId": "bd66d2c4-b9e6-4a99-91f9-b8964ccec7eb"
      },
      "execution_count": 86,
      "outputs": [
        {
          "output_type": "stream",
          "name": "stdout",
          "text": [
            "Accuracy for Top 10 with Noisy Data: 0.9962382445141066\n",
            "Accuracy for Top 3 with Noisy Data: 0.9987460815047022\n",
            "Accuracy for Top 3 SMOTE with Noisy Data: 0.9987460815047022\n"
          ]
        }
      ]
    },
    {
      "cell_type": "markdown",
      "source": [
        "### Feature Importance"
      ],
      "metadata": {
        "id": "kqto-pPoVhjZ"
      }
    },
    {
      "cell_type": "code",
      "source": [
        "import matplotlib.pyplot as plt\n",
        "# Check feature importances for the best models\n",
        "rf_importances = best_model_top_10.named_estimators_['rf'].feature_importances_\n",
        "gb_importances = best_model_top_10.named_estimators_['gb'].feature_importances_\n",
        "\n",
        "# Create a DataFrame for feature importances\n",
        "feature_names = features.columns\n",
        "importances_df = pd.DataFrame({'Feature': feature_names, 'RandomForest': rf_importances, 'GradientBoosting': gb_importances})\n",
        "\n",
        "print(importances_df.sort_values(by='RandomForest', ascending=False))\n",
        "print(importances_df.sort_values(by='GradientBoosting', ascending=False))\n",
        "\n",
        "importances_df.plot(kind='bar', figsize=(12, 8), title='Feature Importances')\n",
        "plt.show()\n"
      ],
      "metadata": {
        "colab": {
          "base_uri": "https://localhost:8080/",
          "height": 1000
        },
        "id": "sHLsNEUBDFKt",
        "outputId": "1d9e8ea8-a1ff-47bb-e041-c5f60aff55dc"
      },
      "execution_count": 77,
      "outputs": [
        {
          "output_type": "stream",
          "name": "stdout",
          "text": [
            "                                Feature  RandomForest  GradientBoosting\n",
            "6                       points_per_race      0.334120      5.640547e-01\n",
            "4   qualifying_position_x_race_position      0.318613      2.273272e-01\n",
            "0                                  grid      0.116174      2.083418e-01\n",
            "5     qualifying_position_x_team_points      0.044425      1.799947e-04\n",
            "1               avg_position_per_season      0.034902      2.160997e-05\n",
            "11                    avg_pit_stop_time      0.026869      1.389179e-06\n",
            "3               avg_qualifying_position      0.024325      5.890759e-13\n",
            "2                       avg_team_points      0.022353      3.057972e-06\n",
            "8                       driver_standing      0.020367      3.064681e-05\n",
            "10                          top_3_count      0.018127      4.814592e-07\n",
            "7           constructor_points_per_race      0.016978      5.174893e-06\n",
            "9                          top_10_count      0.013587      3.313217e-05\n",
            "12                         avg_lap_time      0.009159      7.592736e-07\n",
            "                                Feature  RandomForest  GradientBoosting\n",
            "6                       points_per_race      0.334120      5.640547e-01\n",
            "4   qualifying_position_x_race_position      0.318613      2.273272e-01\n",
            "0                                  grid      0.116174      2.083418e-01\n",
            "5     qualifying_position_x_team_points      0.044425      1.799947e-04\n",
            "9                          top_10_count      0.013587      3.313217e-05\n",
            "8                       driver_standing      0.020367      3.064681e-05\n",
            "1               avg_position_per_season      0.034902      2.160997e-05\n",
            "7           constructor_points_per_race      0.016978      5.174893e-06\n",
            "2                       avg_team_points      0.022353      3.057972e-06\n",
            "11                    avg_pit_stop_time      0.026869      1.389179e-06\n",
            "12                         avg_lap_time      0.009159      7.592736e-07\n",
            "10                          top_3_count      0.018127      4.814592e-07\n",
            "3               avg_qualifying_position      0.024325      5.890759e-13\n"
          ]
        },
        {
          "output_type": "display_data",
          "data": {
            "text/plain": [
              "<Figure size 1200x800 with 1 Axes>"
            ],
            "image/png": "[encoded data removed]"
          },
          "metadata": {}
        }
      ]
    },
    {
      "cell_type": "code",
      "source": [
        "# prompt: sort these as well\n",
        "# importances_df.plot(kind='bar', figsize=(12, 8), title='Feature Importances')\n",
        "# plt.show()\n",
        "\n",
        "import matplotlib.pyplot as plt\n",
        "importances_df.sort_values(by=['RandomForest', 'GradientBoosting'], ascending=False).plot(kind='bar', figsize=(12, 8), title='Feature Importances')\n",
        "plt.show()\n"
      ],
      "metadata": {
        "colab": {
          "base_uri": "https://localhost:8080/",
          "height": 520
        },
        "id": "a0pFyV7FRWp7",
        "outputId": "bd6c29de-91c1-4238-da3f-1a247e11b06f"
      },
      "execution_count": 79,
      "outputs": [
        {
          "output_type": "display_data",
          "data": {
            "text/plain": [
              "<Figure size 1200x800 with 1 Axes>"
            ],
            "image/png": "[encoded data removed]"
          },
          "metadata": {}
        }
      ]
    },
    {
      "cell_type": "markdown",
      "source": [
        "# Summary\n",
        "\n",
        "This model has high accuracy leading me to think there is some overfitting and may need rework soon."
      ],
      "metadata": {
        "id": "jvsv8KrOXBWG"
      }
    },
    {
      "cell_type": "code",
      "source": [],
      "metadata": {
        "id": "7HMBg1u3XILF"
      },
      "execution_count": null,
      "outputs": []
    }
  ],
  "metadata": {
    "colab": {
      "provenance": [],
      "collapsed_sections": [
        "sheaxjhCKBqw"
      ],
      "toc_visible": true,
      "authorship_tag": "ABX9TyPu1vmsHYQ9rkcQrvO6GUc3",
      "include_colab_link": true
    },
    "kernelspec": {
      "display_name": "Python 3",
      "name": "python3"
    },
    "language_info": {
      "name": "python"
    }
  },
  "nbformat": 4,
  "nbformat_minor": 0
}