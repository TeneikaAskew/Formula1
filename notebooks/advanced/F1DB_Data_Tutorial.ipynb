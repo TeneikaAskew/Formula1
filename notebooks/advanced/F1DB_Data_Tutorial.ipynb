{
 "cells": [
  {
   "cell_type": "markdown",
   "metadata": {},
   "source": [
    "# F1DB Data Tutorial\n",
    "\n",
    "This notebook demonstrates how to use the official F1DB repository data (https://github.com/f1db/f1db) in your F1 analysis projects.\n",
    "\n",
    "F1DB provides comprehensive Formula 1 data from 1950 to present in multiple formats:\n",
    "- CSV (recommended for data science)\n",
    "- JSON\n",
    "- SQL dumps\n",
    "- SQLite database"
   ]
  },
  {
   "cell_type": "markdown",
   "metadata": {},
   "source": [
    "## 1. Setup and Installation"
   ]
  },
  {
   "cell_type": "code",
   "execution_count": null,
   "metadata": {},
   "outputs": [],
   "source": [
    "# Import required libraries\n",
    "import pandas as pd\n",
    "import numpy as np\n",
    "import matplotlib.pyplot as plt\n",
    "import seaborn as sns\n",
    "from pathlib import Path\n",
    "\n",
    "# Import the F1DB data loader\n",
    "from f1db_data_loader import load_f1db_data, F1DBDataLoader"
   ]
  },
  {
   "cell_type": "markdown",
   "metadata": {},
   "source": [
    "## 2. Load F1DB Data\n",
    "\n",
    "The data loader will automatically:\n",
    "1. Check for the latest F1DB release\n",
    "2. Download the data if not already present\n",
    "3. Extract and load all CSV files"
   ]
  },
  {
   "cell_type": "code",
   "execution_count": null,
   "metadata": {},
   "outputs": [],
   "source": [
    "# Load the latest F1 data\n",
    "# This will download ~50MB on first run\n",
    "f1_data = load_f1db_data(data_dir='../../data/f1db')\n",
    "\n",
    "# Display available datasets\n",
    "print(f\"\\nLoaded {len(f1_data)} datasets:\")\n",
    "for name, df in f1_data.items():\n",
    "    print(f\"  • {name}: {len(df):,} rows\")"
   ]
  },
  {
   "cell_type": "markdown",
   "metadata": {},
   "source": [
    "## 3. Explore F1DB Data Structure\n",
    "\n",
    "F1DB uses a well-structured schema with consistent naming conventions."
   ]
  },
  {
   "cell_type": "code",
   "execution_count": null,
   "metadata": {},
   "outputs": [],
   "source": [
    "# Key datasets\n",
    "races = f1_data.get('races', pd.DataFrame())\n",
    "drivers = f1_data.get('drivers', pd.DataFrame())\n",
    "constructors = f1_data.get('constructors', pd.DataFrame())\n",
    "results = f1_data.get('results', pd.DataFrame())\n",
    "\n",
    "# Display sample data\n",
    "print(\"Sample Races Data:\")\n",
    "print(races.head())\n",
    "print(f\"\\nColumns: {list(races.columns)}\")\n",
    "\n",
    "print(\"\\n\" + \"=\"*50 + \"\\n\")\n",
    "\n",
    "print(\"Sample Drivers Data:\")\n",
    "print(drivers.head())\n",
    "print(f\"\\nColumns: {list(drivers.columns)}\")"
   ]
  },
  {
   "cell_type": "markdown",
   "metadata": {},
   "source": [
    "## 4. Working with F1DB Data\n",
    "\n",
    "Example: Analyze driver performance over time"
   ]
  },
  {
   "cell_type": "code",
   "execution_count": null,
   "metadata": {},
   "outputs": [],
   "source": [
    "# Merge datasets for analysis\n",
    "if not results.empty and not races.empty and not drivers.empty:\n",
    "    # Create a comprehensive race results dataset\n",
    "    race_data = results.merge(races, on='raceId', how='left')\n",
    "    race_data = race_data.merge(drivers[['driverId', 'driverRef', 'surname', 'forename']], on='driverId', how='left')\n",
    "    \n",
    "    # Filter recent years\n",
    "    recent_data = race_data[race_data['year'] >= 2020]\n",
    "    \n",
    "    # Top drivers by points\n",
    "    driver_points = recent_data.groupby(['driverRef', 'year'])['points'].sum().reset_index()\n",
    "    \n",
    "    # Visualize\n",
    "    plt.figure(figsize=(12, 6))\n",
    "    top_drivers = driver_points.groupby('driverRef')['points'].sum().nlargest(10).index\n",
    "    \n",
    "    for driver in top_drivers:\n",
    "        driver_data = driver_points[driver_points['driverRef'] == driver]\n",
    "        plt.plot(driver_data['year'], driver_data['points'], marker='o', label=driver)\n",
    "    \n",
    "    plt.xlabel('Year')\n",
    "    plt.ylabel('Total Points')\n",
    "    plt.title('Top 10 Drivers Points by Year (2020-present)')\n",
    "    plt.legend(bbox_to_anchor=(1.05, 1), loc='upper left')\n",
    "    plt.grid(True, alpha=0.3)\n",
    "    plt.tight_layout()\n",
    "    plt.show()\n",
    "else:\n",
    "    print(\"Data not loaded properly. Please check the data loader.\")"
   ]
  },
  {
   "cell_type": "markdown",
   "metadata": {},
   "source": [
    "## 5. Advanced Usage\n",
    "\n",
    "### Force data refresh"
   ]
  },
  {
   "cell_type": "code",
   "execution_count": null,
   "metadata": {},
   "outputs": [],
   "source": [
    "# Force download of latest data (useful after race weekends)\n",
    "# f1_data = load_f1db_data(data_dir='../../data/f1db', force_download=True)"
   ]
  },
  {
   "cell_type": "markdown",
   "metadata": {},
   "source": [
    "### Use specific data format"
   ]
  },
  {
   "cell_type": "code",
   "execution_count": null,
   "metadata": {},
   "outputs": [],
   "source": [
    "# Load JSON format instead of CSV\n",
    "# json_loader = F1DBDataLoader(data_dir='../../data/f1db_json', format='json')\n",
    "# json_data = json_loader.load_json_data()"
   ]
  },
  {
   "cell_type": "markdown",
   "metadata": {},
   "source": [
    "### Direct API usage"
   ]
  },
  {
   "cell_type": "code",
   "execution_count": null,
   "metadata": {},
   "outputs": [],
   "source": [
    "# Check latest release information\n",
    "loader = F1DBDataLoader()\n",
    "release_info = loader.get_latest_release_info()\n",
    "print(f\"Latest F1DB Release: {release_info['tag_name']}\")\n",
    "print(f\"Published: {release_info['published_at']}\")\n",
    "print(f\"Release Notes: {release_info['name']}\")"
   ]
  },
  {
   "cell_type": "markdown",
   "metadata": {},
   "source": [
    "## 6. Integration with Other Notebooks\n",
    "\n",
    "To use F1DB data in the other advanced notebooks:\n",
    "\n",
    "1. Copy `f1db_data_loader.py` to your notebook directory\n",
    "2. Replace the data loading section with:\n",
    "\n",
    "```python\n",
    "from f1db_data_loader import load_f1db_data\n",
    "\n",
    "# Load F1DB data\n",
    "f1_data = load_f1db_data()\n",
    "\n",
    "# Map to expected variable names\n",
    "results = f1_data['results']\n",
    "races = f1_data['races']\n",
    "drivers = f1_data['drivers']\n",
    "# ... etc\n",
    "```\n",
    "\n",
    "The F1DB data is more comprehensive and up-to-date than static CSV files!"
   ]
  },
  {
   "cell_type": "markdown",
   "metadata": {},
   "source": [
    "## Key Advantages of F1DB\n",
    "\n",
    "1. **Always Up-to-Date**: New data after every race weekend\n",
    "2. **Comprehensive**: Includes practice, sprint races, and more detailed data\n",
    "3. **Multiple Formats**: Choose the best format for your use case\n",
    "4. **Version Controlled**: Track changes and updates\n",
    "5. **Open Source**: Free to use with clear licensing (CC BY 4.0)\n",
    "\n",
    "For more information, visit: https://github.com/f1db/f1db"
   ]
  }
 ],
 "metadata": {
  "kernelspec": {
   "display_name": "Python 3",
   "language": "python",
   "name": "python3"
  },
  "language_info": {
   "codemirror_mode": {
    "name": "ipython",
    "version": 3
   },
   "file_extension": ".py",
   "mimetype": "text/x-python",
   "name": "python",
   "nbconvert_exporter": "python",
   "pygments_lexer": "ipython3",
   "version": "3.8.0"
  }
 },
 "nbformat": 4,
 "nbformat_minor": 4
}